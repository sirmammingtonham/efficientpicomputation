{
 "cells": [
  {
   "cell_type": "markdown",
   "metadata": {},
   "source": [
    "# Computing Pi with Colliding Blocks"
   ]
  },
  {
   "cell_type": "markdown",
   "metadata": {},
   "source": [
    "This notebook attempts to use colliding blocks to calculate the digits of pi, based off a really cool video by 3Blue1Brown"
   ]
  },
  {
   "cell_type": "code",
   "execution_count": 1,
   "metadata": {},
   "outputs": [
    {
     "data": {
      "text/html": [
       "<iframe width=\"560\" height=\"315\" src=\"https://www.youtube.com/embed/HEfHFsfGXjs\" \\\n",
       "frameborder=\"0\" allow=\"accelerometer; autoplay; encrypted-media; gyroscope; picture-in-picture\" \\\n",
       "allowfullscreen></iframe>"
      ],
      "text/plain": [
       "<IPython.core.display.HTML object>"
      ]
     },
     "metadata": {},
     "output_type": "display_data"
    }
   ],
   "source": [
    "%%html\n",
    "<iframe width=\"560\" height=\"315\" src=\"https://www.youtube.com/embed/HEfHFsfGXjs\" \\\n",
    "frameborder=\"0\" allow=\"accelerometer; autoplay; encrypted-media; gyroscope; picture-in-picture\" \\\n",
    "allowfullscreen></iframe>"
   ]
  },
  {
   "cell_type": "markdown",
   "metadata": {},
   "source": [
    "and the paper [Playing Pool with $\\pi$](https://www.maths.tcd.ie/~lebed/Galperin.%20Playing%20pool%20with%20pi.pdf) by G. Galperin,"
   ]
  },
  {
   "cell_type": "markdown",
   "metadata": {},
   "source": [
    "in which a simple problem is described: a block of mass $M$ moves at a constant speed $V$ on a frictionless surface towards a vertical wall. Closer to the wall there is another block of mass $m$ at rest. After the collision, the small block will hit the wall and be reflected back so that the blocks collide again.\n",
    "\n",
    "If the ratio between the block masses is a power of 100, and the collisions are perfectly elastic, then the total number of collisions $N_\\text{collisions}$ (i.e. collisions + reflections) is equal to certain number of digits of $\\pi$. Basically, if the masses satisfy the relation $\\frac{M}{m} = 100^{d-1}$, then the number of clacks is equal to the first $d$ digits of $\\pi$."
   ]
  },
  {
   "cell_type": "markdown",
   "metadata": {},
   "source": [
    "## 1. Below is the javascript i attempted to use to get a nice display for the computation simulation"
   ]
  },
  {
   "cell_type": "markdown",
   "metadata": {},
   "source": [
    "Only problem is that I wanted to try and use a physics engine for the collision calculations. The first one I used is matter.js, but I learned that they don't have continuous collision detection, so when setting the mass of the larger block > 1000kg, the inner mass goes so fast that the engine no longer detects its collisions, and the block just dissapears... I tried again with planck.js, which is a port of box2d and features ccd, however I get a similar problem, where the inner block goes so fast and begins to clip into the larger block at around 1000kg, throwing off the computation."
   ]
  },
  {
   "cell_type": "code",
   "execution_count": 2,
   "metadata": {
    "scrolled": true
   },
   "outputs": [
    {
     "data": {
      "text/html": [
       "<iframe src=\"https://sirmammingtonham.github.io/efficientpicomputation/\" width=\"1000\" height=\"1100\"></iframe>"
      ],
      "text/plain": [
       "<IPython.core.display.HTML object>"
      ]
     },
     "metadata": {},
     "output_type": "display_data"
    }
   ],
   "source": [
    "%%html\n",
    "<iframe src=\"https://sirmammingtonham.github.io/efficientpicomputation/\" width=\"1000\" height=\"1100\"></iframe>"
   ]
  },
  {
   "cell_type": "markdown",
   "metadata": {},
   "source": [
    "## 2. Equations and definitions, according to the paper"
   ]
  },
  {
   "cell_type": "markdown",
   "metadata": {},
   "source": [
    "### Definitions/Conditions\n",
    "- when the two blocks hit each other we count it as a ***collision***\n",
    "- when the inner block hits the wall we count it as a ***reflection*** \n",
    "- both collisions and reflections are elastic, so energy and momentum are conserved in these processes\n",
    "\n",
    "We are interested in the total number of \"clacks\" given by \n",
    "\n",
    "\\begin{equation} \n",
    "N_\\text{clacks} = N_\\text{collisions} + N_\\text{reflections} \\tag*{(1)}\n",
    "\\end{equation}\n",
    "\n",
    "**Pre-condition:** \n",
    "- We initialize the simulation with the large block (of mass $M$) moving at some constant speed $V_0$ before colliding with the small block (of mass $m$) initially at rest. \n",
    "\n",
    "**Post-condition:** \n",
    "- The final state of the simulation will have the two blocks moving independently away from the wall, with the large block moving faster than the small block, guaranteeing no further collisions."
   ]
  },
  {
   "cell_type": "markdown",
   "metadata": {},
   "source": [
    "### Equations\n",
    "**Reflections:** before hitting the wall, the small block moves with positive velocity, which is fully reversed after the collision. This can be proven in general by writting the conservation of total energy and momentum:\n",
    "\n",
    "\\begin{eqnarray}\n",
    "\\frac12 mv^2_\\text{before} &=& \\frac12 mv^2_\\text{after}, \\tag*{(2)}\\\\\n",
    "mv_\\text{before} &=& mv_\\text{after}, \\tag*{(3)}\\\\\n",
    "\\end{eqnarray}\n",
    "\n",
    "and velocity is reversed, so \n",
    "\\begin{equation} \n",
    "v_\\text{before} = -v_\\text{after} \\tag*{(4)}\n",
    "\\end{equation}\n"
   ]
  },
  {
   "cell_type": "markdown",
   "metadata": {},
   "source": [
    "**Collisions:** when the blocks collide with one another, their collision is perfectly elastic, so both momentum and energy is conserved, leading to the following:\n",
    "\n",
    "\\begin{align*}\n",
    "\\text{conservation of energy  :} \\qquad & \\frac12 MV^2_k + \\frac12 mv^2_k  = \\frac12 MV^2_{k+1} + \\frac12 mv^2_{k+1}, \\tag*{(5)}\\\\\n",
    "\\text{conservation of momentum  :} \\qquad & MV_k - mv_k = MV_{k+1} + mv_{k+1}. \\tag*{(6)}\\\\\n",
    "\\end{align*}"
   ]
  },
  {
   "cell_type": "markdown",
   "metadata": {},
   "source": [
    "Doing some work, getting lazy, and using wolfram alpha magic to solve the rest for $V_{k+1}$ and $v_{k+1}$, we get \n",
    "\\begin{align}\n",
    "v_{k+1} &= \\frac{m-M}{m+M}v_k + \\frac{2M}{m+M}V_k \\tag*{(7)}, \\\\\n",
    "V_{k+1} &= \\frac{2m}{m+M}v_k + \\frac{M-m}{m+M}V_k \\tag*{(8)}\n",
    "\\end{align}"
   ]
  },
  {
   "cell_type": "markdown",
   "metadata": {},
   "source": [
    "which leads to a pretty nice computation for our simulation"
   ]
  },
  {
   "cell_type": "markdown",
   "metadata": {},
   "source": [
    "## 3. Calculations"
   ]
  },
  {
   "cell_type": "code",
   "execution_count": 3,
   "metadata": {},
   "outputs": [],
   "source": [
    "import numpy as np\n",
    "import matplotlib.pyplot as plt\n",
    "%matplotlib inline"
   ]
  },
  {
   "cell_type": "code",
   "execution_count": 4,
   "metadata": {},
   "outputs": [],
   "source": [
    "# if collision is between two blocks...\n",
    "def collision(m, M, vec):\n",
    "    msum = (m + M)\n",
    "    v_1 = (m - M)/float(msum)\n",
    "    v_2 = 2*M/float(msum)\n",
    "    V_1 = 2*m/float(msum)\n",
    "    V_2 = (M - m)/float(msum)\n",
    "\n",
    "    v = v_1*vec[0] + v_2*vec[1] # (eq #7)\n",
    "    V = V_1*vec[0] + V_2*vec[1] # (eq #8)\n",
    "    return v,V"
   ]
  },
  {
   "cell_type": "code",
   "execution_count": 5,
   "metadata": {},
   "outputs": [],
   "source": [
    "# if collision is a reflection...\n",
    "def reflection(vec):\n",
    "    v = (-1)*vec[0] # reverse velocity of small block (eq #4)\n",
    "    V = vec[1]\n",
    "    return [v, V]"
   ]
  },
  {
   "cell_type": "code",
   "execution_count": 6,
   "metadata": {},
   "outputs": [],
   "source": [
    "# checks whether large block is moving away faster than smaller block, which is our end condition\n",
    "def checkspeeds(speed1, speed2):\n",
    "    if (speed1 <= 0 and speed2 <=0):\n",
    "        if(abs(speed2) >= abs(speed1)):\n",
    "            return False\n",
    "    return True"
   ]
  },
  {
   "cell_type": "code",
   "execution_count": 7,
   "metadata": {
    "scrolled": false
   },
   "outputs": [],
   "source": [
    "def run_sim(num_digits):\n",
    "    M = 100**(num_digits-1)\n",
    "    currentVector = [0,1]\n",
    "    ctype = 'C' # the large block will always initially collide with the small block\n",
    "    clackCount = 0\n",
    "    v, V = [], []\n",
    "    while(checkspeeds(currentVector[0], currentVector[1])):\n",
    "        if (ctype == 'C'):\n",
    "            currentVector = collision(1, M, currentVector)\n",
    "            v.append(currentVector[0])\n",
    "            V.append(currentVector[1])\n",
    "            clackCount += 1 # increment counter on collision\n",
    "            ctype = 'R'\n",
    "        elif (ctype == 'R'):\n",
    "            currentVector = reflection(currentVector)\n",
    "            v.append(currentVector[0])\n",
    "            V.append(currentVector[1])\n",
    "            clackCount += 1 # increment counter on collision\n",
    "            ctype = 'C'\n",
    "            \n",
    "    return clackCount, v, V"
   ]
  },
  {
   "cell_type": "code",
   "execution_count": 8,
   "metadata": {},
   "outputs": [
    {
     "name": "stdout",
     "output_type": "stream",
     "text": [
      "314159\n"
     ]
    }
   ],
   "source": [
    "print(run_sim(6)[0])"
   ]
  },
  {
   "cell_type": "code",
   "execution_count": 9,
   "metadata": {},
   "outputs": [
    {
     "name": "stdout",
     "output_type": "stream",
     "text": [
      "3.141592653589793\n"
     ]
    }
   ],
   "source": [
    "print(np.pi)"
   ]
  },
  {
   "cell_type": "markdown",
   "metadata": {},
   "source": [
    "it works!\n",
    "### now to plot the velocities"
   ]
  },
  {
   "cell_type": "code",
   "execution_count": 10,
   "metadata": {},
   "outputs": [],
   "source": [
    "def plot_velocities(V, v, num_digits, clack_count, linemarkers=True):\n",
    "    M = 100**(num_digits-1)\n",
    "    x = np.arange(0, len(V), 1)\n",
    "    fig, ax1 = plt.subplots()\n",
    "    ax1.set_title('Velocity of each block ($m=1, M={}$)'.format(M), fontsize=16)\n",
    "\n",
    "    colorV = 'g'\n",
    "    colorv = 'b'\n",
    "\n",
    "    ax2 = ax1.twinx()\n",
    "    if linemarkers:\n",
    "        ax1.plot(x, V, 'o-', color=colorV)\n",
    "        ax2.plot(x, v, 'o-', color=colorv)\n",
    "    else:\n",
    "        ax1.plot(x, V, '-', color=colorV)\n",
    "        ax2.plot(x, v, '-', color=colorv)\n",
    "    ax1.grid(False)\n",
    "    ax2.grid(False)\n",
    "    ax1.set_xlabel(r'$k$ (number of collisions)', fontsize=16)\n",
    "    ax1.set_ylabel('velocity large block', fontsize=16, color=colorV)\n",
    "    ax2.set_ylabel('velocity small block', fontsize=16, color=colorv)\n",
    "    Vmax = 1.5\n",
    "    vmax = max(v)*1.1\n",
    "    xmax = max(x)*1.1\n",
    "    ax1.plot([0, xmax], [0, 0], 'k-', lw=1)  # y=0 line\n",
    "    ax1.plot([0, 0], [-2*Vmax, 2*Vmax], 'k-', lw=1)  # x=0 line\n",
    "    ax1.text(xmax*7/9, 1.3, 'clacks: {}'.format(clack_count), fontsize=16)\n",
    "    ax1.xaxis.set_ticks(np.arange(0, len(V), np.max([1, int(1/7*len(V))])))\n",
    "    ax1.set_xlim(-xmax/50, xmax)\n",
    "    ax1.set_ylim(-Vmax, Vmax)\n",
    "    ax2.set_ylim(-vmax, vmax);"
   ]
  },
  {
   "cell_type": "code",
   "execution_count": 11,
   "metadata": {},
   "outputs": [],
   "source": [
    "clacks, v, V = run_sim(2)\n",
    "v_1 = np.asarray(v)\n",
    "V_1 = np.asarray(V)"
   ]
  },
  {
   "cell_type": "code",
   "execution_count": 12,
   "metadata": {},
   "outputs": [
    {
     "data": {
      "image/png": "[encoded data removed]",
      "text/plain": [
       "<Figure size 432x288 with 2 Axes>"
      ]
     },
     "metadata": {
      "needs_background": "light"
     },
     "output_type": "display_data"
    }
   ],
   "source": [
    "plot_velocities(V_1, v_1, \n",
    "                num_digits=2, \n",
    "                clack_count=clacks, \n",
    "                linemarkers=True)"
   ]
  },
  {
   "cell_type": "markdown",
   "metadata": {},
   "source": [
    "So you can sort of see the makings of a velocity phase diagram, and I probably could have made one if I figured out a way to stretch the axes enough. "
   ]
  },
  {
   "cell_type": "markdown",
   "metadata": {},
   "source": [
    "## 4. Conclusion"
   ]
  },
  {
   "cell_type": "markdown",
   "metadata": {},
   "source": [
    "Overall, a pretty cool problem. I learned a lot about elastic collisions (I also did some research on relativistic elastic collisions and learned that the equations I used break down when the speed of the colliding bodies is close to the speed of light), physics engines and their pitfalls, the fact that you can model interesting physics phenomenon with geometry, and also the sheer amount of stuff I can cram into a jupyter notebook."
   ]
  }
 ],
 "metadata": {
  "kernelspec": {
   "display_name": "Python 3",
   "language": "python",
   "name": "python3"
  },
  "language_info": {
   "codemirror_mode": {
    "name": "ipython",
    "version": 3
   },
   "file_extension": ".py",
   "mimetype": "text/x-python",
   "name": "python",
   "nbconvert_exporter": "python",
   "pygments_lexer": "ipython3",
   "version": "3.6.6"
  }
 },
 "nbformat": 4,
 "nbformat_minor": 2
}
