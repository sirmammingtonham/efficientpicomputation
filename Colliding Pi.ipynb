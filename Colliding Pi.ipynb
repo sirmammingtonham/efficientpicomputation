{
 "cells": [
  {
   "cell_type": "markdown",
   "metadata": {},
   "source": [
    "# Computing Pi with Colliding Blocks"
   ]
  },
  {
   "cell_type": "markdown",
   "metadata": {},
   "source": [
    "This notebook attempts to use colliding blocks to calculate the digits of pi, based off a really cool video by 3Blue1Brown"
   ]
  },
  {
   "cell_type": "code",
   "execution_count": 4,
   "metadata": {},
   "outputs": [
    {
     "data": {
      "text/html": [
       "<iframe width=\"560\" height=\"315\" src=\"https://www.youtube.com/embed/HEfHFsfGXjs\" \\\n",
       "        frameborder=\"0\" allow=\"accelerometer; autoplay; encrypted-media; gyroscope; picture\\\n",
       "        -in-picture\" allowfullscreen></iframe>"
      ],
      "text/plain": [
       "<IPython.core.display.HTML object>"
      ]
     },
     "metadata": {},
     "output_type": "display_data"
    }
   ],
   "source": [
    "%%html\n",
    "<iframe width=\"560\" height=\"315\" src=\"https://www.youtube.com/embed/HEfHFsfGXjs\" \\\n",
    "frameborder=\"0\" allow=\"accelerometer; autoplay; encrypted-media; gyroscope; picture-in-picture\" \\\n",
    "allowfullscreen></iframe>"
   ]
  },
  {
   "cell_type": "markdown",
   "metadata": {},
   "source": [
    "and the paper [Playing Pool with $\\pi$](https://www.maths.tcd.ie/~lebed/Galperin.%20Playing%20pool%20with%20pi.pdf) by G. Galperin,"
   ]
  },
  {
   "cell_type": "markdown",
   "metadata": {},
   "source": [
    "in which a simple problem is described: a block of mass $M$ moves at a constant speed $V$ on a frictionless surface towards a vertical wall. Closer to the wall there is another block of mass $m$ at rest. After the collision, the small block will hit the wall and be reflected back so that the blocks collide again.\n",
    "\n",
    "If the ratio between the block masses is a power of 100, and the collisions are perfectly elastic, then the total number of collisions $N_\\text{collisions}$ (i.e. collisions + reflections) is equal to certain number of digits of $\\pi$. More precisely, if the masses satisfy the relation $\\frac{M}{m} = 100^{d-1}$, then the number of clacks is equal to the first $d$ digits of $\\pi$."
   ]
  },
  {
   "cell_type": "markdown",
   "metadata": {},
   "source": [
    "## 1. Below is the javascript i attempted to use to get a nice display for the computation simulation"
   ]
  },
  {
   "cell_type": "markdown",
   "metadata": {},
   "source": [
    "Only problem is that I wanted to try and use a physics engine for the collision calculations. The first one I used is matter.js, but I learned that they don't have continuous collision detection, so when setting the mass of the larger block to 1000kg, the inner mass goes so fast that the engine no longer detects its collisions, and the block just dissapears... I tried again with planck.js, which is a port of box2d and features ccd, however I get a similar problem, where the inner block goes so fast and begins to clip into the larger block at around 1000kg, throwing off the computation."
   ]
  },
  {
   "cell_type": "code",
   "execution_count": 13,
   "metadata": {
    "scrolled": true
   },
   "outputs": [
    {
     "data": {
      "text/html": [
       "<iframe src=\"https://sirmammingtonham.github.io/efficientpicomputation/\" width=\"1000\" height=\"1100\"></iframe>"
      ],
      "text/plain": [
       "<IPython.core.display.HTML object>"
      ]
     },
     "metadata": {},
     "output_type": "display_data"
    }
   ],
   "source": [
    "%%html\n",
    "<iframe src=\"https://sirmammingtonham.github.io/efficientpicomputation/\" width=\"1000\" height=\"1100\"></iframe>"
   ]
  },
  {
   "cell_type": "markdown",
   "metadata": {},
   "source": [
    "## 2. Equations and definitions, according to the paper"
   ]
  },
  {
   "cell_type": "markdown",
   "metadata": {},
   "source": [
    "### Definitions/Conditions\n",
    "- when the two blocks hit each other we can count it as a ***collision***\n",
    "- when the inner block hits the wall we can count it as a ***reflection*** \n",
    "- both collisions and reflections are elastic, so energy and momentum are conserved in these processes\n",
    "\n",
    "We are interested in the total number of \"clacks\" given by \n",
    "\n",
    "\\begin{equation} \n",
    "N_\\text{clacks} = N_\\text{collisions} + N_\\text{reflections} \\tag*{(1)}\n",
    "\\end{equation}\n",
    "\n",
    "**Pre-condition:** \n",
    "- We initialize the simulation with the large block (of mass $M$) moving at some constant speed $V_0$ before colliding with the small block (of mass $m$) initially at rest. \n",
    "\n",
    "**Post-condition:** \n",
    "- The final state of the simulation will have the two blocks moving independently away from the wall, with the large block moving faster than the small block, guaranteeing no further collisions."
   ]
  },
  {
   "cell_type": "markdown",
   "metadata": {},
   "source": [
    "### Equations\n",
    "**Reflections:** before hitting the wall, the small block moves with positive velocity, which is fully reversed after the collision. This can be proven in general by writting the conservation of total energy and momentum:\n",
    "\n",
    "\\begin{eqnarray}\n",
    "\\frac12 mv^2_\\text{before} &=& \\frac12 mv^2_\\text{after}, \\tag*{(2)}\\\\\n",
    "mv_\\text{before} &=& mv_\\text{after}, \\tag*{(3)}\\\\\n",
    "\\end{eqnarray}\n",
    "\n",
    "and velocity is reversed, so \n",
    "\\begin{equation} \n",
    "v_\\text{before} = -v_\\text{after} \\tag*{(4)}\n",
    "\\end{equation}\n"
   ]
  },
  {
   "cell_type": "markdown",
   "metadata": {},
   "source": [
    "**Collisions:** when the blocks collide with one another, they transfer momentum to the other with each collision. Conservation of energy and momentum lead to:\n",
    "\n",
    "\\begin{align*}\n",
    "\\text{conservation of energy  :} \\qquad & \\frac12 MV^2_k + \\frac12 mv^2_k  = \\frac12 MV^2_{k+1} + \\frac12 mv^2_{k+1}, \\tag*{(5)}\\\\\n",
    "\\text{conservation of momentum  :} \\qquad & MV_k - mv_k = MV_{k+1} + mv_{k+1}. \\tag*{(6)}\\\\\n",
    "\\end{align*}"
   ]
  },
  {
   "cell_type": "markdown",
   "metadata": {},
   "source": [
    "If we define the ratio between the block masses as $\\lambda$\n",
    "\n",
    "\\begin{align*}\n",
    "\\lambda = \\frac{M}{m} \\tag*{(7)}\n",
    "\\end{align*}\n",
    "\n",
    "and simplify redundant terms, the system of equations can be written as\n",
    "\n",
    "\\begin{align*}\n",
    "\\text{conservation of energy  :} \\qquad & \\lambda V^2_k + v^2_k = \\lambda V^2_{k+1} + v^2_{k+1},\n",
    "\\tag*{(8)} \\\\\n",
    "\\text{conservation of momentum:} \\qquad & \\, \\lambda V_k - v_k = \\lambda V_{k+1} + v_{k+1}.\n",
    "\\tag*{(9)}\n",
    "\\end{align*}"
   ]
  },
  {
   "cell_type": "markdown",
   "metadata": {},
   "source": [
    "Doing some wolfram alpha magic to solve for $V_{k+1}$ and $v_{k+1}$, we get \n",
    "\\begin{align}\n",
    "V_{k+1} &= \\left(\\frac{\\lambda-1}{\\lambda+1}\\right) V_k - \\left(\\frac{2}{\\lambda+1}\\right) v_k \\tag*{(10)}, \\\\\n",
    "v_{k+1} &= \\left(\\frac{2\\lambda}{\\lambda+1}\\right) V_k + \\left(\\frac{\\lambda-1}{\\lambda+1}\\right) v_k. \\tag*{(11)}\n",
    "\\end{align}"
   ]
  },
  {
   "cell_type": "markdown",
   "metadata": {},
   "source": [
    "which leads to a pretty nice computation for our simulation"
   ]
  },
  {
   "cell_type": "code",
   "execution_count": null,
   "metadata": {},
   "outputs": [],
   "source": [
    "import numpy as np"
   ]
  },
  {
   "cell_type": "code",
   "execution_count": 28,
   "metadata": {},
   "outputs": [],
   "source": [
    "def run_simulation(lambda_=1):\n",
    "    # lambda_: M/m mass ratio\n",
    "    k_max = int(10*np.sqrt(lambda_))  # max value for loop\n",
    "    # create arrays to plot velocity later\n",
    "    V, v = np.zeros(k_max+1), np.zeros(k_max+1)\n",
    "    # initial conditions\n",
    "    V[0], v[0] = 1, 0\n",
    "    # collide, blocks, collide!\n",
    "    collisions=0\n",
    "    for k in range(0, k_max):\n",
    "        V[k+1] = (lambda_-1)/(lambda_+1) * V[k] - (2)/(lambda_+1) * v[k]         # eq. (12)\n",
    "        v[k+1] = (2*lambda_)/(lambda_+1) * V[k] + (lambda_-1)/(lambda_+1) * v[k] # eq. (13)\n",
    "        # declare k_last conditions\n",
    "        cond_1  = V[k+1] < v[k+1] <= 0  # both move backwards, big block moves faster\n",
    "        cond_2 = 0 < v[k+1] <= -V[k+1]  # big block moves backwards, small block will be reflected one more time\n",
    "        collisions+=1\n",
    "        k_last = k+1  # update k_last\n",
    "        if cond_1:\n",
    "            clacks = 2*k_last-1\n",
    "            break\n",
    "        elif cond_2:\n",
    "            clacks = 2*k_last\n",
    "            break\n",
    "    return collisions\n",
    "#     return clacks, V[:k_last+1], v[:k_last+1]"
   ]
  },
  {
   "cell_type": "code",
   "execution_count": 27,
   "metadata": {},
   "outputs": [
    {
     "data": {
      "text/plain": [
       "157080"
      ]
     },
     "execution_count": 27,
     "metadata": {},
     "output_type": "execute_result"
    }
   ],
   "source": [
    "run_simulation(100**(6-1))"
   ]
  },
  {
   "cell_type": "code",
   "execution_count": null,
   "metadata": {},
   "outputs": [],
   "source": []
  }
 ],
 "metadata": {
  "kernelspec": {
   "display_name": "Python 3",
   "language": "python",
   "name": "python3"
  },
  "language_info": {
   "codemirror_mode": {
    "name": "ipython",
    "version": 3
   },
   "file_extension": ".py",
   "mimetype": "text/x-python",
   "name": "python",
   "nbconvert_exporter": "python",
   "pygments_lexer": "ipython3",
   "version": "3.6.6"
  }
 },
 "nbformat": 4,
 "nbformat_minor": 2
}
